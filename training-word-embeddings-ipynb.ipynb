{
 "cells": [
  {
   "cell_type": "code",
   "execution_count": 1,
   "id": "0983df38",
   "metadata": {
    "_cell_guid": "b1076dfc-b9ad-4769-8c92-a6c4dae69d19",
    "_uuid": "8f2839f25d086af736a60e9eeb907d3b93b6e0e5",
    "execution": {
     "iopub.execute_input": "2025-05-24T23:15:25.342307Z",
     "iopub.status.busy": "2025-05-24T23:15:25.341912Z",
     "iopub.status.idle": "2025-05-24T23:15:27.417402Z",
     "shell.execute_reply": "2025-05-24T23:15:27.416204Z"
    },
    "papermill": {
     "duration": 2.082809,
     "end_time": "2025-05-24T23:15:27.419558",
     "exception": false,
     "start_time": "2025-05-24T23:15:25.336749",
     "status": "completed"
    },
    "tags": []
   },
   "outputs": [
    {
     "name": "stdout",
     "output_type": "stream",
     "text": [
      "/kaggle/input/training-word-embeddings/royal_data.txt\n"
     ]
    }
   ],
   "source": [
    "# This Python 3 environment comes with many helpful analytics libraries installed\n",
    "# It is defined by the kaggle/python Docker image: https://github.com/kaggle/docker-python\n",
    "# For example, here's several helpful packages to load\n",
    "\n",
    "import numpy as np # linear algebra\n",
    "import pandas as pd # data processing, CSV file I/O (e.g. pd.read_csv)\n",
    "\n",
    "# Input data files are available in the read-only \"../input/\" directory\n",
    "# For example, running this (by clicking run or pressing Shift+Enter) will list all files under the input directory\n",
    "\n",
    "import os\n",
    "for dirname, _, filenames in os.walk('/kaggle/input'):\n",
    "    for filename in filenames:\n",
    "        print(os.path.join(dirname, filename))\n",
    "\n",
    "# You can write up to 20GB to the current directory (/kaggle/working/) that gets preserved as output when you create a version using \"Save & Run All\" \n",
    "# You can also write temporary files to /kaggle/temp/, but they won't be saved outside of the current session"
   ]
  },
  {
   "cell_type": "markdown",
   "id": "d618f086",
   "metadata": {
    "papermill": {
     "duration": 0.002842,
     "end_time": "2025-05-24T23:15:27.426116",
     "exception": false,
     "start_time": "2025-05-24T23:15:27.423274",
     "status": "completed"
    },
    "tags": []
   },
   "source": [
    "## Load Data"
   ]
  },
  {
   "cell_type": "code",
   "execution_count": 2,
   "id": "9f88cfee",
   "metadata": {
    "execution": {
     "iopub.execute_input": "2025-05-24T23:15:27.433595Z",
     "iopub.status.busy": "2025-05-24T23:15:27.433200Z",
     "iopub.status.idle": "2025-05-24T23:15:30.142823Z",
     "shell.execute_reply": "2025-05-24T23:15:30.141794Z"
    },
    "papermill": {
     "duration": 2.715558,
     "end_time": "2025-05-24T23:15:30.144717",
     "exception": false,
     "start_time": "2025-05-24T23:15:27.429159",
     "status": "completed"
    },
    "tags": []
   },
   "outputs": [],
   "source": [
    "import nltk\n",
    "from nltk.corpus import stopwords\n",
    "import numpy as np"
   ]
  },
  {
   "cell_type": "code",
   "execution_count": 3,
   "id": "90dfab3d",
   "metadata": {
    "execution": {
     "iopub.execute_input": "2025-05-24T23:15:30.152568Z",
     "iopub.status.busy": "2025-05-24T23:15:30.152156Z",
     "iopub.status.idle": "2025-05-24T23:15:30.162039Z",
     "shell.execute_reply": "2025-05-24T23:15:30.160916Z"
    },
    "papermill": {
     "duration": 0.015464,
     "end_time": "2025-05-24T23:15:30.163538",
     "exception": false,
     "start_time": "2025-05-24T23:15:30.148074",
     "status": "completed"
    },
    "tags": []
   },
   "outputs": [
    {
     "name": "stdout",
     "output_type": "stream",
     "text": [
      "['The future king is the prince\\n', 'Daughter is the princess\\n', 'Son is the prince\\n', 'Only a man can be a king\\n', 'Only a woman can be a queen\\n', 'The princess will be a queen\\n', 'The prince is a strong man\\n', 'The princess is a beautiful woman\\n', 'Prince is only a boy now\\n', 'Prince will be king\\n', 'A boy will be a man']\n"
     ]
    }
   ],
   "source": [
    "file = open('/kaggle/input/training-word-embeddings/royal_data.txt','r')\n",
    "royal_data = file.readlines()\n",
    "file.close()\n",
    "print(royal_data)"
   ]
  },
  {
   "cell_type": "code",
   "execution_count": 4,
   "id": "a964d4bb",
   "metadata": {
    "execution": {
     "iopub.execute_input": "2025-05-24T23:15:30.171316Z",
     "iopub.status.busy": "2025-05-24T23:15:30.170980Z",
     "iopub.status.idle": "2025-05-24T23:15:30.176925Z",
     "shell.execute_reply": "2025-05-24T23:15:30.175886Z"
    },
    "papermill": {
     "duration": 0.011555,
     "end_time": "2025-05-24T23:15:30.178367",
     "exception": false,
     "start_time": "2025-05-24T23:15:30.166812",
     "status": "completed"
    },
    "tags": []
   },
   "outputs": [
    {
     "name": "stdout",
     "output_type": "stream",
     "text": [
      "['the future king is the prince', 'daughter is the princess', 'son is the prince', 'only a man can be a king', 'only a woman can be a queen', 'the princess will be a queen', 'the prince is a strong man', 'the princess is a beautiful woman', 'prince is only a boy now', 'prince will be king', 'a boy will be a man']\n"
     ]
    }
   ],
   "source": [
    "for i in range(len(royal_data)):\n",
    "    royal_data[i] = royal_data[i].lower().replace('\\n','')\n",
    "\n",
    "print(royal_data)"
   ]
  },
  {
   "cell_type": "markdown",
   "id": "d04ea1dc",
   "metadata": {
    "papermill": {
     "duration": 0.002879,
     "end_time": "2025-05-24T23:15:30.184482",
     "exception": false,
     "start_time": "2025-05-24T23:15:30.181603",
     "status": "completed"
    },
    "tags": []
   },
   "source": [
    "## Remove stopwords and Tokenize"
   ]
  },
  {
   "cell_type": "code",
   "execution_count": 5,
   "id": "aebef5a7",
   "metadata": {
    "execution": {
     "iopub.execute_input": "2025-05-24T23:15:30.191927Z",
     "iopub.status.busy": "2025-05-24T23:15:30.191502Z",
     "iopub.status.idle": "2025-05-24T23:15:30.212048Z",
     "shell.execute_reply": "2025-05-24T23:15:30.210577Z"
    },
    "papermill": {
     "duration": 0.026211,
     "end_time": "2025-05-24T23:15:30.213663",
     "exception": false,
     "start_time": "2025-05-24T23:15:30.187452",
     "status": "completed"
    },
    "tags": []
   },
   "outputs": [
    {
     "name": "stdout",
     "output_type": "stream",
     "text": [
      "[['future', 'king', 'prince'], ['daughter', 'princess'], ['son', 'prince'], ['man', 'king'], ['woman', 'queen'], ['princess', 'queen'], ['prince', 'strong', 'man'], ['princess', 'beautiful', 'woman'], ['prince', 'boy'], ['prince', 'king'], ['boy', 'man']]\n"
     ]
    }
   ],
   "source": [
    "filter_data =[]\n",
    "for sent in royal_data:\n",
    "    temp = []\n",
    "    for word in sent.split():\n",
    "        if word not in stopwords.words('english'):\n",
    "            temp.append(word)\n",
    "    filter_data.append(temp)\n",
    "print(filter_data)"
   ]
  },
  {
   "cell_type": "markdown",
   "id": "6ee05432",
   "metadata": {
    "papermill": {
     "duration": 0.003008,
     "end_time": "2025-05-24T23:15:30.220028",
     "exception": false,
     "start_time": "2025-05-24T23:15:30.217020",
     "status": "completed"
    },
    "tags": []
   },
   "source": [
    "## Bigrams"
   ]
  },
  {
   "cell_type": "code",
   "execution_count": 6,
   "id": "56f53261",
   "metadata": {
    "execution": {
     "iopub.execute_input": "2025-05-24T23:15:30.227704Z",
     "iopub.status.busy": "2025-05-24T23:15:30.227318Z",
     "iopub.status.idle": "2025-05-24T23:15:30.233323Z",
     "shell.execute_reply": "2025-05-24T23:15:30.232349Z"
    },
    "papermill": {
     "duration": 0.011533,
     "end_time": "2025-05-24T23:15:30.234741",
     "exception": false,
     "start_time": "2025-05-24T23:15:30.223208",
     "status": "completed"
    },
    "tags": []
   },
   "outputs": [
    {
     "name": "stdout",
     "output_type": "stream",
     "text": [
      "[['future', 'king'], ['king', 'future'], ['future', 'prince'], ['prince', 'future'], ['king', 'prince'], ['prince', 'king'], ['daughter', 'princess'], ['princess', 'daughter'], ['son', 'prince'], ['prince', 'son'], ['man', 'king'], ['king', 'man'], ['woman', 'queen'], ['queen', 'woman'], ['princess', 'queen'], ['queen', 'princess'], ['prince', 'strong'], ['strong', 'prince'], ['prince', 'man'], ['man', 'prince'], ['strong', 'man'], ['man', 'strong'], ['princess', 'beautiful'], ['beautiful', 'princess'], ['princess', 'woman'], ['woman', 'princess'], ['beautiful', 'woman'], ['woman', 'beautiful'], ['prince', 'boy'], ['boy', 'prince'], ['prince', 'king'], ['king', 'prince'], ['boy', 'man'], ['man', 'boy']]\n"
     ]
    }
   ],
   "source": [
    "bigrams = []\n",
    "for word_list in filter_data:\n",
    "    for i in range(len(word_list) - 1):\n",
    "        for j in range(i+1, len(word_list)):\n",
    "            bigrams.append([word_list[i],word_list[j]])\n",
    "            bigrams.append([word_list[j],word_list[i]])\n",
    "print(bigrams)"
   ]
  },
  {
   "cell_type": "markdown",
   "id": "df28d25d",
   "metadata": {
    "papermill": {
     "duration": 0.003011,
     "end_time": "2025-05-24T23:15:30.241152",
     "exception": false,
     "start_time": "2025-05-24T23:15:30.238141",
     "status": "completed"
    },
    "tags": []
   },
   "source": [
    "## Vocab"
   ]
  },
  {
   "cell_type": "code",
   "execution_count": 7,
   "id": "290b3dfa",
   "metadata": {
    "execution": {
     "iopub.execute_input": "2025-05-24T23:15:30.249002Z",
     "iopub.status.busy": "2025-05-24T23:15:30.248502Z",
     "iopub.status.idle": "2025-05-24T23:15:30.253583Z",
     "shell.execute_reply": "2025-05-24T23:15:30.252602Z"
    },
    "papermill": {
     "duration": 0.010845,
     "end_time": "2025-05-24T23:15:30.255158",
     "exception": false,
     "start_time": "2025-05-24T23:15:30.244313",
     "status": "completed"
    },
    "tags": []
   },
   "outputs": [
    {
     "name": "stdout",
     "output_type": "stream",
     "text": [
      "['future', 'king', 'prince', 'daughter', 'princess', 'son', 'prince', 'man', 'king', 'woman', 'queen', 'princess', 'queen', 'prince', 'strong', 'man', 'princess', 'beautiful', 'woman', 'prince', 'boy', 'prince', 'king', 'boy', 'man']\n"
     ]
    }
   ],
   "source": [
    "all_words=[]\n",
    "for sent in filter_data:\n",
    "    all_words.extend(sent)\n",
    "print(all_words)"
   ]
  },
  {
   "cell_type": "code",
   "execution_count": 8,
   "id": "d056ad46",
   "metadata": {
    "execution": {
     "iopub.execute_input": "2025-05-24T23:15:30.263857Z",
     "iopub.status.busy": "2025-05-24T23:15:30.262996Z",
     "iopub.status.idle": "2025-05-24T23:15:30.269151Z",
     "shell.execute_reply": "2025-05-24T23:15:30.267950Z"
    },
    "papermill": {
     "duration": 0.012034,
     "end_time": "2025-05-24T23:15:30.270692",
     "exception": false,
     "start_time": "2025-05-24T23:15:30.258658",
     "status": "completed"
    },
    "tags": []
   },
   "outputs": [
    {
     "name": "stdout",
     "output_type": "stream",
     "text": [
      "['beautiful', 'boy', 'daughter', 'future', 'king', 'man', 'prince', 'princess', 'queen', 'son', 'strong', 'woman']\n"
     ]
    }
   ],
   "source": [
    "all_words = list(set(all_words))\n",
    "all_words.sort()\n",
    "print(all_words)"
   ]
  },
  {
   "cell_type": "markdown",
   "id": "6e23e299",
   "metadata": {
    "papermill": {
     "duration": 0.003147,
     "end_time": "2025-05-24T23:15:30.277381",
     "exception": false,
     "start_time": "2025-05-24T23:15:30.274234",
     "status": "completed"
    },
    "tags": []
   },
   "source": [
    "## One hot encoding"
   ]
  },
  {
   "cell_type": "code",
   "execution_count": 9,
   "id": "8fc763f5",
   "metadata": {
    "execution": {
     "iopub.execute_input": "2025-05-24T23:15:30.285754Z",
     "iopub.status.busy": "2025-05-24T23:15:30.284972Z",
     "iopub.status.idle": "2025-05-24T23:15:30.290350Z",
     "shell.execute_reply": "2025-05-24T23:15:30.289253Z"
    },
    "papermill": {
     "duration": 0.011134,
     "end_time": "2025-05-24T23:15:30.291908",
     "exception": false,
     "start_time": "2025-05-24T23:15:30.280774",
     "status": "completed"
    },
    "tags": []
   },
   "outputs": [
    {
     "name": "stdout",
     "output_type": "stream",
     "text": [
      "{'beautiful': 0, 'boy': 1, 'daughter': 2, 'future': 3, 'king': 4, 'man': 5, 'prince': 6, 'princess': 7, 'queen': 8, 'son': 9, 'strong': 10, 'woman': 11}\n"
     ]
    }
   ],
   "source": [
    "word_dict = {}\n",
    "counter = 0\n",
    "for word in all_words:\n",
    "    word_dict[word] = counter\n",
    "    counter +=1\n",
    "print(word_dict)"
   ]
  },
  {
   "cell_type": "code",
   "execution_count": 10,
   "id": "0041a69b",
   "metadata": {
    "execution": {
     "iopub.execute_input": "2025-05-24T23:15:30.300377Z",
     "iopub.status.busy": "2025-05-24T23:15:30.300070Z",
     "iopub.status.idle": "2025-05-24T23:15:30.304899Z",
     "shell.execute_reply": "2025-05-24T23:15:30.303918Z"
    },
    "papermill": {
     "duration": 0.011164,
     "end_time": "2025-05-24T23:15:30.306580",
     "exception": false,
     "start_time": "2025-05-24T23:15:30.295416",
     "status": "completed"
    },
    "tags": []
   },
   "outputs": [],
   "source": [
    "onehot_data = np.zeros((len(all_words),len(all_words)))"
   ]
  }
 ],
 "metadata": {
  "kaggle": {
   "accelerator": "none",
   "dataSources": [
    {
     "datasetId": 7504668,
     "sourceId": 11936752,
     "sourceType": "datasetVersion"
    }
   ],
   "dockerImageVersionId": 31040,
   "isGpuEnabled": false,
   "isInternetEnabled": true,
   "language": "python",
   "sourceType": "notebook"
  },
  "kernelspec": {
   "display_name": "Python 3",
   "language": "python",
   "name": "python3"
  },
  "language_info": {
   "codemirror_mode": {
    "name": "ipython",
    "version": 3
   },
   "file_extension": ".py",
   "mimetype": "text/x-python",
   "name": "python",
   "nbconvert_exporter": "python",
   "pygments_lexer": "ipython3",
   "version": "3.11.11"
  },
  "papermill": {
   "default_parameters": {},
   "duration": 11.094616,
   "end_time": "2025-05-24T23:15:31.031201",
   "environment_variables": {},
   "exception": null,
   "input_path": "__notebook__.ipynb",
   "output_path": "__notebook__.ipynb",
   "parameters": {},
   "start_time": "2025-05-24T23:15:19.936585",
   "version": "2.6.0"
  }
 },
 "nbformat": 4,
 "nbformat_minor": 5
}
