{
 "cells": [
  {
   "cell_type": "code",
   "execution_count": 1,
   "id": "b81c8071",
   "metadata": {
    "_cell_guid": "b1076dfc-b9ad-4769-8c92-a6c4dae69d19",
    "_uuid": "8f2839f25d086af736a60e9eeb907d3b93b6e0e5",
    "execution": {
     "iopub.execute_input": "2025-05-24T18:26:22.735691Z",
     "iopub.status.busy": "2025-05-24T18:26:22.735149Z",
     "iopub.status.idle": "2025-05-24T18:26:24.824478Z",
     "shell.execute_reply": "2025-05-24T18:26:24.823389Z"
    },
    "papermill": {
     "duration": 2.095693,
     "end_time": "2025-05-24T18:26:24.826621",
     "exception": false,
     "start_time": "2025-05-24T18:26:22.730928",
     "status": "completed"
    },
    "tags": []
   },
   "outputs": [
    {
     "name": "stdout",
     "output_type": "stream",
     "text": [
      "/kaggle/input/training-word-embeddings/royal_data.txt\n"
     ]
    }
   ],
   "source": [
    "# This Python 3 environment comes with many helpful analytics libraries installed\n",
    "# It is defined by the kaggle/python Docker image: https://github.com/kaggle/docker-python\n",
    "# For example, here's several helpful packages to load\n",
    "\n",
    "import numpy as np # linear algebra\n",
    "import pandas as pd # data processing, CSV file I/O (e.g. pd.read_csv)\n",
    "\n",
    "# Input data files are available in the read-only \"../input/\" directory\n",
    "# For example, running this (by clicking run or pressing Shift+Enter) will list all files under the input directory\n",
    "\n",
    "import os\n",
    "for dirname, _, filenames in os.walk('/kaggle/input'):\n",
    "    for filename in filenames:\n",
    "        print(os.path.join(dirname, filename))\n",
    "\n",
    "# You can write up to 20GB to the current directory (/kaggle/working/) that gets preserved as output when you create a version using \"Save & Run All\" \n",
    "# You can also write temporary files to /kaggle/temp/, but they won't be saved outside of the current session"
   ]
  },
  {
   "cell_type": "markdown",
   "id": "fa72da53",
   "metadata": {
    "papermill": {
     "duration": 0.00178,
     "end_time": "2025-05-24T18:26:24.830973",
     "exception": false,
     "start_time": "2025-05-24T18:26:24.829193",
     "status": "completed"
    },
    "tags": []
   },
   "source": [
    "## Load Data"
   ]
  },
  {
   "cell_type": "code",
   "execution_count": 2,
   "id": "8fa6450a",
   "metadata": {
    "execution": {
     "iopub.execute_input": "2025-05-24T18:26:24.836266Z",
     "iopub.status.busy": "2025-05-24T18:26:24.835862Z",
     "iopub.status.idle": "2025-05-24T18:26:24.843301Z",
     "shell.execute_reply": "2025-05-24T18:26:24.842159Z"
    },
    "papermill": {
     "duration": 0.012035,
     "end_time": "2025-05-24T18:26:24.844958",
     "exception": false,
     "start_time": "2025-05-24T18:26:24.832923",
     "status": "completed"
    },
    "tags": []
   },
   "outputs": [
    {
     "name": "stdout",
     "output_type": "stream",
     "text": [
      "['The future king is the prince\\n', 'Daughter is the princess\\n', 'Son is the prince\\n', 'Only a man can be a king\\n', 'Only a woman can be a queen\\n', 'The princess will be a queen\\n', 'The prince is a strong man\\n', 'The princess is a beautiful woman\\n', 'Prince is only a boy now\\n', 'Prince will be king\\n', 'A boy will be a man']\n"
     ]
    }
   ],
   "source": [
    "file = open('/kaggle/input/training-word-embeddings/royal_data.txt','r')\n",
    "royal_data = file.readlines()\n",
    "file.close()\n",
    "print(royal_data)"
   ]
  },
  {
   "cell_type": "code",
   "execution_count": 3,
   "id": "dd4765b8",
   "metadata": {
    "execution": {
     "iopub.execute_input": "2025-05-24T18:26:24.850775Z",
     "iopub.status.busy": "2025-05-24T18:26:24.850438Z",
     "iopub.status.idle": "2025-05-24T18:26:24.855934Z",
     "shell.execute_reply": "2025-05-24T18:26:24.854913Z"
    },
    "papermill": {
     "duration": 0.010208,
     "end_time": "2025-05-24T18:26:24.857538",
     "exception": false,
     "start_time": "2025-05-24T18:26:24.847330",
     "status": "completed"
    },
    "tags": []
   },
   "outputs": [
    {
     "name": "stdout",
     "output_type": "stream",
     "text": [
      "['the future king is the prince', 'daughter is the princess', 'son is the prince', 'only a man can be a king', 'only a woman can be a queen', 'the princess will be a queen', 'the prince is a strong man', 'the princess is a beautiful woman', 'prince is only a boy now', 'prince will be king', 'a boy will be a man']\n"
     ]
    }
   ],
   "source": [
    "for i in range(len(royal_data)):\n",
    "    royal_data[i] = royal_data[i].lower().replace('\\n','')\n",
    "\n",
    "print(royal_data)"
   ]
  },
  {
   "cell_type": "markdown",
   "id": "2c4217e7",
   "metadata": {
    "papermill": {
     "duration": 0.00187,
     "end_time": "2025-05-24T18:26:24.861592",
     "exception": false,
     "start_time": "2025-05-24T18:26:24.859722",
     "status": "completed"
    },
    "tags": []
   },
   "source": [
    "## Remove stopwords and Tokenize"
   ]
  },
  {
   "cell_type": "code",
   "execution_count": null,
   "id": "2a8ae0ff",
   "metadata": {
    "papermill": {
     "duration": 0.001702,
     "end_time": "2025-05-24T18:26:24.865387",
     "exception": false,
     "start_time": "2025-05-24T18:26:24.863685",
     "status": "completed"
    },
    "tags": []
   },
   "outputs": [],
   "source": []
  }
 ],
 "metadata": {
  "kaggle": {
   "accelerator": "none",
   "dataSources": [
    {
     "datasetId": 7504668,
     "sourceId": 11936752,
     "sourceType": "datasetVersion"
    }
   ],
   "dockerImageVersionId": 31040,
   "isGpuEnabled": false,
   "isInternetEnabled": true,
   "language": "python",
   "sourceType": "notebook"
  },
  "kernelspec": {
   "display_name": "Python 3",
   "language": "python",
   "name": "python3"
  },
  "language_info": {
   "codemirror_mode": {
    "name": "ipython",
    "version": 3
   },
   "file_extension": ".py",
   "mimetype": "text/x-python",
   "name": "python",
   "nbconvert_exporter": "python",
   "pygments_lexer": "ipython3",
   "version": "3.11.11"
  },
  "papermill": {
   "default_parameters": {},
   "duration": 7.818972,
   "end_time": "2025-05-24T18:26:25.388329",
   "environment_variables": {},
   "exception": null,
   "input_path": "__notebook__.ipynb",
   "output_path": "__notebook__.ipynb",
   "parameters": {},
   "start_time": "2025-05-24T18:26:17.569357",
   "version": "2.6.0"
  }
 },
 "nbformat": 4,
 "nbformat_minor": 5
}
